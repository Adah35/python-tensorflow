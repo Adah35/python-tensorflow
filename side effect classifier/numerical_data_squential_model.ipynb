{
 "cells": [
  {
   "cell_type": "markdown",
   "id": "ce6954c6",
   "metadata": {},
   "source": [
    "**Pre processing of data**"
   ]
  },
  {
   "cell_type": "code",
   "execution_count": 2,
   "id": "f669f881",
   "metadata": {},
   "outputs": [],
   "source": [
    "import numpy as np\n",
    "from random import randint\n",
    "from sklearn.utils import shuffle\n",
    "from sklearn.preprocessing import MinMaxScaler\n",
    "\n",
    "np.random.seed(0)"
   ]
  },
  {
   "cell_type": "code",
   "execution_count": 3,
   "id": "163d4eda",
   "metadata": {},
   "outputs": [],
   "source": [
    "train_labels = []\n",
    "train_samples = []"
   ]
  },
  {
   "cell_type": "code",
   "execution_count": 28,
   "id": "b224dc29",
   "metadata": {},
   "outputs": [
    {
     "ename": "AttributeError",
     "evalue": "'numpy.ndarray' object has no attribute 'append'",
     "output_type": "error",
     "traceback": [
      "\u001b[1;31m---------------------------------------------------------------------------\u001b[0m",
      "\u001b[1;31mAttributeError\u001b[0m                            Traceback (most recent call last)",
      "Cell \u001b[1;32mIn[28], line 25\u001b[0m\n\u001b[0;32m     22\u001b[0m         x_array\u001b[38;5;241m.\u001b[39mappend(random_older)\n\u001b[0;32m     23\u001b[0m         y_array\u001b[38;5;241m.\u001b[39mappend(\u001b[38;5;241m1\u001b[39m)\n\u001b[1;32m---> 25\u001b[0m \u001b[43mcreate_dataset\u001b[49m\u001b[43m(\u001b[49m\u001b[43mtrain_samples\u001b[49m\u001b[43m,\u001b[49m\u001b[43mtrain_labels\u001b[49m\u001b[43m)\u001b[49m\n",
      "Cell \u001b[1;32mIn[28], line 6\u001b[0m, in \u001b[0;36mcreate_dataset\u001b[1;34m(x_array, y_array)\u001b[0m\n\u001b[0;32m      3\u001b[0m \u001b[38;5;28;01mfor\u001b[39;00m i \u001b[38;5;129;01min\u001b[39;00m \u001b[38;5;28mrange\u001b[39m(\u001b[38;5;241m50\u001b[39m):\n\u001b[0;32m      4\u001b[0m     \u001b[38;5;66;03m# the 5% of younger patients with side effects\u001b[39;00m\n\u001b[0;32m      5\u001b[0m     random_younger \u001b[38;5;241m=\u001b[39m np\u001b[38;5;241m.\u001b[39mrandom\u001b[38;5;241m.\u001b[39mrandint(\u001b[38;5;241m13\u001b[39m,\u001b[38;5;241m64\u001b[39m)\n\u001b[1;32m----> 6\u001b[0m     \u001b[43mx_array\u001b[49m\u001b[38;5;241;43m.\u001b[39;49m\u001b[43mappend\u001b[49m(random_younger)\n\u001b[0;32m      7\u001b[0m     y_array\u001b[38;5;241m.\u001b[39mappend(\u001b[38;5;241m1\u001b[39m)\n\u001b[0;32m      9\u001b[0m     \u001b[38;5;66;03m# 5% of older patients with no side effects\u001b[39;00m\n",
      "\u001b[1;31mAttributeError\u001b[0m: 'numpy.ndarray' object has no attribute 'append'"
     ]
    }
   ],
   "source": [
    "\n",
    "# generate data =>> numerical dataset\n",
    "def create_dataset(x_array,y_array):\n",
    "    for i in range(50):\n",
    "        # the 5% of younger patients with side effects\n",
    "        random_younger = np.random.randint(13,64)\n",
    "        x_array.append(random_younger)\n",
    "        y_array.append(1)\n",
    "\n",
    "        # 5% of older patients with no side effects\n",
    "        random_older = np.random.randint(65,100)\n",
    "        x_array.append(random_older)\n",
    "        y_array.append(0)\n",
    "\n",
    "    for i in range(1000):\n",
    "        # 95% of younger patients with no side effects\n",
    "        random_younger = np.random.randint(13,64)\n",
    "        x_array.append(random_younger)\n",
    "        y_array.append(0)\n",
    "\n",
    "        # 95% of older patients with  side effects\n",
    "        random_older = np.random.randint(65,100)\n",
    "        x_array.append(random_older)\n",
    "        y_array.append(1)\n",
    "\n",
    "create_dataset(train_samples,train_labels)\n"
   ]
  },
  {
   "cell_type": "code",
   "execution_count": 5,
   "id": "3c45a2d3",
   "metadata": {},
   "outputs": [
    {
     "name": "stdout",
     "output_type": "stream",
     "text": [
      "[1, 0, 1, 0, 1, 0, 1, 0, 1, 0]\n",
      "[57, 65, 16, 68, 52, 74, 32, 86, 63, 88]\n"
     ]
    }
   ],
   "source": [
    "print(train_labels[:10])\n",
    "print(train_samples[:10])"
   ]
  },
  {
   "cell_type": "code",
   "execution_count": 6,
   "id": "31441479",
   "metadata": {},
   "outputs": [],
   "source": [
    "# process data\n",
    "# convert to numpy array\n",
    "\n",
    "train_labels = np.array(train_labels)\n",
    "train_samples = np.array(train_samples)\n",
    "train_labels,train_samples = shuffle(train_labels,train_samples)"
   ]
  },
  {
   "cell_type": "code",
   "execution_count": null,
   "id": "bb356722",
   "metadata": {},
   "outputs": [
    {
     "name": "stdout",
     "output_type": "stream",
     "text": [
      "[[0.48837209]\n",
      " [0.96511628]\n",
      " [0.88372093]\n",
      " [0.1627907 ]\n",
      " [0.8255814 ]]\n"
     ]
    }
   ],
   "source": [
    "scaler = MinMaxScaler(feature_range=(0,1))\n",
    "scaler_train_samples = scaler.fit_transform(train_samples.reshape(-1,1))\n",
    "print(scaler_train_samples[:5])"
   ]
  },
  {
   "cell_type": "markdown",
   "id": "130dd5dd",
   "metadata": {},
   "source": [
    "Model creation "
   ]
  },
  {
   "cell_type": "code",
   "execution_count": 15,
   "id": "89f91471",
   "metadata": {},
   "outputs": [],
   "source": [
    "import tensorflow as tf\n",
    "import keras\n",
    "from tensorflow import keras\n",
    "from keras import Sequential\n",
    "from keras.layers import Activation,Dense,Input\n",
    "from keras.optimizers import Adam\n",
    "from keras.metrics import CategoricalCrossentropy\n",
    "\n",
    "\n"
   ]
  },
  {
   "cell_type": "code",
   "execution_count": 19,
   "id": "e6b3aef4",
   "metadata": {},
   "outputs": [
    {
     "data": {
      "text/html": [
       "<pre style=\"white-space:pre;overflow-x:auto;line-height:normal;font-family:Menlo,'DejaVu Sans Mono',consolas,'Courier New',monospace\"><span style=\"font-weight: bold\">Model: \"sequential_5\"</span>\n",
       "</pre>\n"
      ],
      "text/plain": [
       "\u001b[1mModel: \"sequential_5\"\u001b[0m\n"
      ]
     },
     "metadata": {},
     "output_type": "display_data"
    },
    {
     "data": {
      "text/html": [
       "<pre style=\"white-space:pre;overflow-x:auto;line-height:normal;font-family:Menlo,'DejaVu Sans Mono',consolas,'Courier New',monospace\">┏━━━━━━━━━━━━━━━━━━━━━━━━━━━━━━━━━┳━━━━━━━━━━━━━━━━━━━━━━━━┳━━━━━━━━━━━━━━━┓\n",
       "┃<span style=\"font-weight: bold\"> Layer (type)                    </span>┃<span style=\"font-weight: bold\"> Output Shape           </span>┃<span style=\"font-weight: bold\">       Param # </span>┃\n",
       "┡━━━━━━━━━━━━━━━━━━━━━━━━━━━━━━━━━╇━━━━━━━━━━━━━━━━━━━━━━━━╇━━━━━━━━━━━━━━━┩\n",
       "│ dense_7 (<span style=\"color: #0087ff; text-decoration-color: #0087ff\">Dense</span>)                 │ (<span style=\"color: #00d7ff; text-decoration-color: #00d7ff\">None</span>, <span style=\"color: #00af00; text-decoration-color: #00af00\">16</span>)             │            <span style=\"color: #00af00; text-decoration-color: #00af00\">32</span> │\n",
       "├─────────────────────────────────┼────────────────────────┼───────────────┤\n",
       "│ dense_8 (<span style=\"color: #0087ff; text-decoration-color: #0087ff\">Dense</span>)                 │ (<span style=\"color: #00d7ff; text-decoration-color: #00d7ff\">None</span>, <span style=\"color: #00af00; text-decoration-color: #00af00\">32</span>)             │           <span style=\"color: #00af00; text-decoration-color: #00af00\">544</span> │\n",
       "├─────────────────────────────────┼────────────────────────┼───────────────┤\n",
       "│ dense_9 (<span style=\"color: #0087ff; text-decoration-color: #0087ff\">Dense</span>)                 │ (<span style=\"color: #00d7ff; text-decoration-color: #00d7ff\">None</span>, <span style=\"color: #00af00; text-decoration-color: #00af00\">2</span>)              │            <span style=\"color: #00af00; text-decoration-color: #00af00\">66</span> │\n",
       "└─────────────────────────────────┴────────────────────────┴───────────────┘\n",
       "</pre>\n"
      ],
      "text/plain": [
       "┏━━━━━━━━━━━━━━━━━━━━━━━━━━━━━━━━━┳━━━━━━━━━━━━━━━━━━━━━━━━┳━━━━━━━━━━━━━━━┓\n",
       "┃\u001b[1m \u001b[0m\u001b[1mLayer (type)                   \u001b[0m\u001b[1m \u001b[0m┃\u001b[1m \u001b[0m\u001b[1mOutput Shape          \u001b[0m\u001b[1m \u001b[0m┃\u001b[1m \u001b[0m\u001b[1m      Param #\u001b[0m\u001b[1m \u001b[0m┃\n",
       "┡━━━━━━━━━━━━━━━━━━━━━━━━━━━━━━━━━╇━━━━━━━━━━━━━━━━━━━━━━━━╇━━━━━━━━━━━━━━━┩\n",
       "│ dense_7 (\u001b[38;5;33mDense\u001b[0m)                 │ (\u001b[38;5;45mNone\u001b[0m, \u001b[38;5;34m16\u001b[0m)             │            \u001b[38;5;34m32\u001b[0m │\n",
       "├─────────────────────────────────┼────────────────────────┼───────────────┤\n",
       "│ dense_8 (\u001b[38;5;33mDense\u001b[0m)                 │ (\u001b[38;5;45mNone\u001b[0m, \u001b[38;5;34m32\u001b[0m)             │           \u001b[38;5;34m544\u001b[0m │\n",
       "├─────────────────────────────────┼────────────────────────┼───────────────┤\n",
       "│ dense_9 (\u001b[38;5;33mDense\u001b[0m)                 │ (\u001b[38;5;45mNone\u001b[0m, \u001b[38;5;34m2\u001b[0m)              │            \u001b[38;5;34m66\u001b[0m │\n",
       "└─────────────────────────────────┴────────────────────────┴───────────────┘\n"
      ]
     },
     "metadata": {},
     "output_type": "display_data"
    },
    {
     "data": {
      "text/html": [
       "<pre style=\"white-space:pre;overflow-x:auto;line-height:normal;font-family:Menlo,'DejaVu Sans Mono',consolas,'Courier New',monospace\"><span style=\"font-weight: bold\"> Total params: </span><span style=\"color: #00af00; text-decoration-color: #00af00\">642</span> (2.51 KB)\n",
       "</pre>\n"
      ],
      "text/plain": [
       "\u001b[1m Total params: \u001b[0m\u001b[38;5;34m642\u001b[0m (2.51 KB)\n"
      ]
     },
     "metadata": {},
     "output_type": "display_data"
    },
    {
     "data": {
      "text/html": [
       "<pre style=\"white-space:pre;overflow-x:auto;line-height:normal;font-family:Menlo,'DejaVu Sans Mono',consolas,'Courier New',monospace\"><span style=\"font-weight: bold\"> Trainable params: </span><span style=\"color: #00af00; text-decoration-color: #00af00\">642</span> (2.51 KB)\n",
       "</pre>\n"
      ],
      "text/plain": [
       "\u001b[1m Trainable params: \u001b[0m\u001b[38;5;34m642\u001b[0m (2.51 KB)\n"
      ]
     },
     "metadata": {},
     "output_type": "display_data"
    },
    {
     "data": {
      "text/html": [
       "<pre style=\"white-space:pre;overflow-x:auto;line-height:normal;font-family:Menlo,'DejaVu Sans Mono',consolas,'Courier New',monospace\"><span style=\"font-weight: bold\"> Non-trainable params: </span><span style=\"color: #00af00; text-decoration-color: #00af00\">0</span> (0.00 B)\n",
       "</pre>\n"
      ],
      "text/plain": [
       "\u001b[1m Non-trainable params: \u001b[0m\u001b[38;5;34m0\u001b[0m (0.00 B)\n"
      ]
     },
     "metadata": {},
     "output_type": "display_data"
    }
   ],
   "source": [
    "model = Sequential([\n",
    "   \n",
    "    Input(shape=(1,)),  # Specify the input shape explicitly\n",
    "    Dense(units=16, activation='relu'),\n",
    "    Dense(units=32, activation='relu'),\n",
    "    Dense(units=2, activation='softmax') \n",
    "\n",
    "])\n",
    "\n",
    "model.summary()"
   ]
  },
  {
   "cell_type": "code",
   "execution_count": 22,
   "id": "ea24f7d2",
   "metadata": {},
   "outputs": [],
   "source": [
    "model.compile(optimizer=keras.optimizers.Adam(learning_rate=0.0001),loss='sparse_categorical_crossentropy',metrics=['accuracy'])"
   ]
  },
  {
   "cell_type": "code",
   "execution_count": null,
   "id": "5615eb6d",
   "metadata": {},
   "outputs": [],
   "source": [
    "model.fit(x=scaler_train_samples,y=train_labels,batch_size=10,epochs=30,validation_split=0.1,shuffle=True,verbose=2)"
   ]
  },
  {
   "cell_type": "code",
   "execution_count": 35,
   "id": "5e8320dc",
   "metadata": {},
   "outputs": [
    {
     "name": "stdout",
     "output_type": "stream",
     "text": [
      "[96 39 72 46 24]\n",
      "[1 0 1 0 0]\n"
     ]
    }
   ],
   "source": [
    "test_labels = []\n",
    "test_samples = []\n",
    "\n",
    "create_dataset(test_samples,test_labels)\n",
    "\n",
    "test_labels = np.array(test_labels)\n",
    "test_samples = np.array(test_samples)\n",
    "test_labels,test_samples = shuffle(train_labels,train_samples)\n",
    "scaled_test_samples = scaler.fit_transform(test_samples.reshape(-1,1))\n",
    "print(test_samples[:5])\n",
    "print(test_labels[:5])\n"
   ]
  },
  {
   "cell_type": "code",
   "execution_count": 49,
   "id": "edc7ae77",
   "metadata": {},
   "outputs": [],
   "source": [
    "predictions = model.predict(scaled_test_samples,batch_size=10,verbose=0)\n"
   ]
  },
  {
   "cell_type": "code",
   "execution_count": 55,
   "id": "552e2eef",
   "metadata": {},
   "outputs": [
    {
     "data": {
      "text/plain": [
       "1"
      ]
     },
     "execution_count": 55,
     "metadata": {},
     "output_type": "execute_result"
    }
   ],
   "source": [
    "predictions\n",
    "np.argmax([0.02442205, 0.975578  ])"
   ]
  },
  {
   "cell_type": "code",
   "execution_count": 46,
   "id": "89c54b12",
   "metadata": {},
   "outputs": [
    {
     "name": "stdout",
     "output_type": "stream",
     "text": [
      "Age       Predicted      Confidence     Actual    \n",
      "==================================================\n",
      "96        Side Effect         97.56          1         \n",
      "39        No Side Effect      97.11          0         \n",
      "72        Side Effect         84.67          1         \n",
      "46        No Side Effect      95.46          0         \n",
      "24        No Side Effect      96.94          0         \n",
      "73        Side Effect         86.91          1         \n",
      "98        Side Effect         97.78          1         \n",
      "13        No Side Effect      96.81          0         \n",
      "55        No Side Effect      80.49          0         \n",
      "30        No Side Effect      97.01          0         \n",
      "84        Side Effect         95.64          1         \n",
      "49        No Side Effect      92.56          0         \n",
      "21        No Side Effect      96.90          0         \n",
      "60        No Side Effect      62.20          0         \n",
      "73        Side Effect         86.91          1         \n"
     ]
    }
   ],
   "source": [
    "def display_predictions(samples, predictions, labels):\n",
    "    print(f\"{'Age':<10}{'Predicted':<15}{'Confidence':<15}{'Actual':<10}\")\n",
    "    print(\"=\" * 50)\n",
    "\n",
    "    for i, (sample, prediction, actual) in enumerate(zip(samples, predictions, labels)):\n",
    "        predicted_class = np.argmax(prediction)  # Class with highest probability\n",
    "        confidence = prediction[predicted_class] * 100  # Confidence percentage\n",
    "        actual_class = actual\n",
    "        \n",
    "        print(f\"{sample:<10}{'Side Effect' if predicted_class == 1 else 'No Side Effect':<20}\"\n",
    "              f\"{confidence:<15.2f}{actual_class:<10}\")\n",
    "        \n",
    "display_predictions(test_samples[:15], predictions[:15], test_labels[:15])\n"
   ]
  },
  {
   "cell_type": "code",
   "execution_count": null,
   "id": "333337ca",
   "metadata": {},
   "outputs": [
    {
     "data": {
      "image/png": "[encoded data removed]",
      "text/plain": [
       "<Figure size 640x480 with 2 Axes>"
      ]
     },
     "metadata": {},
     "output_type": "display_data"
    }
   ],
   "source": [
    "from sklearn.metrics import confusion_matrix, ConfusionMatrixDisplay\n",
    "import matplotlib.pyplot as plt\n",
    "\n",
    "threshold = 0.5\n",
    "\n",
    "def plot_confusion_matrix(true_labels, predicted_probs, class_names):\n",
    "    # Convert predicted probabilities to class predictions\n",
    "    predicted_classes = np.argmax(predicted_probs, axis=1)\n",
    "\n",
    "    # Create confusion matrix\n",
    "    cm = confusion_matrix(true_labels, predicted_classes)\n",
    "    \n",
    "    # Plot confusion matrix\n",
    "    disp = ConfusionMatrixDisplay(confusion_matrix=cm, display_labels=class_names)\n",
    "    disp.plot(cmap=plt.cm.Blues, values_format=\"d\")\n",
    "    plt.title(\"Confusion Matrix\")\n",
    "    plt.show()\n",
    "    \n",
    "# Use the function to plot confusion matrix\n",
    "plot_confusion_matrix(test_labels, predictions, class_names=[\"No Side Effect\", \"Side Effect\"])\n"
   ]
  },
  {
   "cell_type": "code",
   "execution_count": 56,
   "id": "f6b39a08",
   "metadata": {},
   "outputs": [
    {
     "name": "stderr",
     "output_type": "stream",
     "text": [
      "WARNING:absl:You are saving your model as an HDF5 file via `model.save()` or `keras.saving.save_model(model)`. This file format is considered legacy. We recommend using instead the native Keras format, e.g. `model.save('my_model.keras')` or `keras.saving.save_model(model, 'my_model.keras')`. \n"
     ]
    }
   ],
   "source": [
    "from datetime import datetime\n",
    "import os\n",
    "date = datetime.now().strftime(\"%Y%m%d\")\n",
    "name = f'{\"side_effect_classifier\"}_{\"v1\"}_{date}.h5'\n",
    "if(os.path.isfile(name)) is False:\n",
    "    model.save(name)"
   ]
  },
  {
   "cell_type": "code",
   "execution_count": null,
   "id": "33144eb5",
   "metadata": {},
   "outputs": [
    {
     "ename": "NameError",
     "evalue": "name 'keras' is not defined",
     "output_type": "error",
     "traceback": [
      "\u001b[1;31m---------------------------------------------------------------------------\u001b[0m",
      "\u001b[1;31mNameError\u001b[0m                                 Traceback (most recent call last)",
      "Cell \u001b[1;32mIn[1], line 1\u001b[0m\n\u001b[1;32m----> 1\u001b[0m model \u001b[38;5;241m=\u001b[39m \u001b[43mkeras\u001b[49m\u001b[38;5;241m.\u001b[39mmodels\u001b[38;5;241m.\u001b[39mload_model(name)\n\u001b[0;32m      2\u001b[0m model\u001b[38;5;241m.\u001b[39mpredict(scaled_test_samples[\u001b[38;5;241m1\u001b[39m],varbose\u001b[38;5;241m=\u001b[39m\u001b[38;5;241m0\u001b[39m)\n",
      "\u001b[1;31mNameError\u001b[0m: name 'keras' is not defined"
     ]
    }
   ],
   "source": [
    "model = keras.models.load_model(name)\n",
    "predictions = model.predict(scaled_test_samples,batch_size=10,verbose=0)"
   ]
  }
 ],
 "metadata": {
  "kernelspec": {
   "display_name": "Python 3",
   "language": "python",
   "name": "python3"
  },
  "language_info": {
   "codemirror_mode": {
    "name": "ipython",
    "version": 3
   },
   "file_extension": ".py",
   "mimetype": "text/x-python",
   "name": "python",
   "nbconvert_exporter": "python",
   "pygments_lexer": "ipython3",
   "version": "3.12.0"
  }
 },
 "nbformat": 4,
 "nbformat_minor": 5
}
